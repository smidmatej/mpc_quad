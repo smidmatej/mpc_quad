{
 "cells": [
  {
   "cell_type": "code",
   "execution_count": 1,
   "id": "4372fe36-e95a-4007-8005-627169db408b",
   "metadata": {},
   "outputs": [],
   "source": [
    "import numpy as np\n",
    "import plotly.graph_objects as go\n",
    "from ipywidgets import interact, widgets"
   ]
  },
  {
   "cell_type": "code",
   "execution_count": 2,
   "id": "492e3359-8107-40db-915c-c7de416690b6",
   "metadata": {},
   "outputs": [],
   "source": [
    " def update_layout_of_graph(fig: go.Figure,title: str = 'Plot')->go.Figure:\n",
    "    fig.update_layout(\n",
    "        width=800,\n",
    "        height=600,\n",
    "        autosize=False,\n",
    "        plot_bgcolor='rgba(0,0,0,0)',\n",
    "        title=title,\n",
    "        \n",
    "    )\n",
    "    fig.update_layout(plot_bgcolor='rgba(0,0,0,0)',\n",
    "                      xaxis_title = 'input values',\n",
    "                      yaxis_title = 'output values',\n",
    "                      legend=dict(yanchor=\"top\",\n",
    "                                  y=0.9,\n",
    "                                  xanchor=\"right\",\n",
    "                                  x=0.95),\n",
    "                      title={\n",
    "                          'x': 0.5,\n",
    "                          'xanchor': 'center'\n",
    "                      })\n",
    "    fig.update_xaxes(showline=True, linewidth=1, linecolor='black')\n",
    "    fig.update_yaxes(showline=True, linewidth=1, linecolor='black')\n",
    "    return fig\n",
    "def line_scatter(\n",
    "    visible: bool = True,\n",
    "    x_lines: np.array = np.array([]),\n",
    "    y_lines: np.array = np.array([]),\n",
    "    name_line: str = 'Predicted function',\n",
    "    showlegend: bool = True,\n",
    ") -> go.Scatter:\n",
    "    # Adding the lines\n",
    "    return go.Scatter(\n",
    "        visible=visible,\n",
    "        line=dict(color=\"blue\", width=2),\n",
    "        x=x_lines,\n",
    "        y=y_lines,\n",
    "        name=name_line,\n",
    "        showlegend= showlegend\n",
    "    )\n",
    "def dot_scatter(\n",
    "    visible: bool = True,\n",
    "    x_dots: np.array = np.array([]),\n",
    "    y_dots: np.array = np.array([]),\n",
    "    name_dots: str = 'Observed points',\n",
    "    showlegend: bool = True\n",
    ") -> go.Scatter:\n",
    "    # Adding the dots\n",
    "    return go.Scatter(\n",
    "        x=x_dots,\n",
    "        visible=visible,\n",
    "        y=y_dots,\n",
    "        mode=\"markers\",\n",
    "        name=name_dots,\n",
    "        marker=dict(color='red', size=8),\n",
    "        showlegend=showlegend\n",
    "    )\n",
    "def uncertainty_area_scatter(\n",
    "        visible: bool = True,\n",
    "        x_lines: np.array = np.array([]),\n",
    "        y_upper: np.array = np.array([]),\n",
    "        y_lower: np.array = np.array([]),\n",
    "        name: str = \"mean plus/minus standard deviation\",\n",
    ") -> go.Scatter:\n",
    "\n",
    "    return go.Scatter(\n",
    "        visible=visible,\n",
    "        x=np.concatenate((x_lines, x_lines[::-1])),  # x, then x reversed\n",
    "        # upper, then lower reversed\n",
    "        y=np.concatenate((y_upper, y_lower[::-1])),\n",
    "        fill='toself',\n",
    "        fillcolor='rgba(189,195,199,0.5)',\n",
    "        line=dict(color='rgba(200,200,200,0)'),\n",
    "        hoverinfo=\"skip\",\n",
    "        showlegend=True,\n",
    "        name= name,\n",
    "    )"
   ]
  },
  {
   "cell_type": "code",
   "execution_count": 17,
   "id": "12202b20-5e59-485d-bc51-2be30f8c0e8a",
   "metadata": {},
   "outputs": [],
   "source": [
    "class SquaredExponentialKernel:\n",
    "    def __init__(self,L=np.eye(10),sigma_f=1):\n",
    "        self.L = L\n",
    "        self.sigma_f = sigma_f\n",
    "        \n",
    "    def __call__(self, argument_1,argument_2):\n",
    "        #print(np.dot((argument_1-argument_2),np.linalg.inv(self.L*self.L)))\n",
    "        return float(self.sigma_f * np.exp(-1/2*np.dot(np.dot((argument_1-argument_2),np.linalg.inv(self.L*self.L)),(argument_1-argument_2))))\n",
    "    #return float(self.sigma_f*np.exp(-np.linalg.norm(argument_1-argument_2)**2/(2*self.length**2)))"
   ]
  },
  {
   "cell_type": "code",
   "execution_count": 4,
   "id": "44a0cdb0-e262-47f5-be06-44994cdddbac",
   "metadata": {},
   "outputs": [],
   "source": [
    "def calculate_covariance_matrix(x1,x2,covariance_function):\n",
    "    # need to rework this. It needs to iterate over samples, not features\n",
    "    return np.array([[covariance_function(a,b) for a in x1] for b in x2])"
   ]
  },
  {
   "cell_type": "code",
   "execution_count": 5,
   "id": "898f86b1-3a51-4b75-b589-a8a143c3ae37",
   "metadata": {},
   "outputs": [],
   "source": [
    "class GPR:\n",
    "    def __init__(self,\n",
    "                 data_x,\n",
    "                 data_y,\n",
    "                 covariance_function,\n",
    "                 noise=0.0):\n",
    "        self.data_x = data_x\n",
    "        self.data_y = data_y\n",
    "        self.covariance_function = covariance_function\n",
    "        self.noise = noise\n",
    "        self._memory = None\n",
    "        \n",
    "        self.inv_cov_matrix_of_input_data = np.linalg.inv(\n",
    "            calculate_covariance_matrix(data_x, data_x, covariance_function) \\\n",
    "            + (noise+1e-7)*np.identity(len(data_x)))\n",
    "\n",
    "    def predict(self,at_values):\n",
    "        k_lower_star = calculate_covariance_matrix(self.data_x, at_values, self.covariance_function)\n",
    "        k_lower_star2 = calculate_covariance_matrix(at_values, at_values, self.covariance_function)\n",
    "        \n",
    "        mean_at_values = np.dot(\n",
    "            k_lower_star, \n",
    "            np.dot(self.data_y, \n",
    "                   self.inv_cov_matrix_of_input_data.T).T).flatten()\n",
    "        \n",
    "        covar_matrix = k_lower_star2 - \\\n",
    "            np.dot(k_lower_star, np.dot(\n",
    "                   self.inv_cov_matrix_of_input_data, k_lower_star.T))\n",
    "        \n",
    "        variance = np.diag(covar_matrix)\n",
    "        self._memory = {'mean': mean_at_values, 'covariance_matrix': covar_matrix, 'variance':variance}\n",
    "                        \n",
    "        return mean_at_values"
   ]
  },
  {
   "cell_type": "code",
   "execution_count": 11,
   "id": "07d2d3ef-0a24-4327-8d29-096723941aaf",
   "metadata": {},
   "outputs": [
    {
     "name": "stdout",
     "output_type": "stream",
     "text": [
      "10\n",
      "(10, 13)\n",
      "(10,)\n"
     ]
    }
   ],
   "source": [
    "from save_dataset import load_dict\n",
    "\n",
    "data = load_dict('data/trajectory.pkl')\n",
    "\n",
    "#print(data)\n",
    "v = data['v'][1:]\n",
    "v_pred = data['v_pred'][1:]\n",
    "\n",
    "\n",
    "\n",
    "a_error = (v - v_pred)/data['dt']\n",
    "\n",
    "\n",
    "x_values = np.concatenate((data['p'][1:,:], data['q'][1:,:], data['v'][1:,:], data['w'][1:,:]),axis=1)\n",
    "y_values = a_error[:,0] # just x dimension\n",
    "\n",
    "n_sub = 1000\n",
    "x_subsampled = x_values[::n_sub]\n",
    "y_subsampled = y_values[::n_sub]\n",
    "n_sampled = x_subsampled.shape[0]\n",
    "\n",
    "print(n_sampled)\n",
    "\n",
    "print(x_subsampled.shape)\n",
    "print(y_subsampled.shape)\n"
   ]
  },
  {
   "cell_type": "code",
   "execution_count": 19,
   "id": "1916534d-420d-4dce-a838-c0c81e199b2a",
   "metadata": {},
   "outputs": [
    {
     "name": "stdout",
     "output_type": "stream",
     "text": [
      "1.0000406597478775\n"
     ]
    }
   ],
   "source": [
    "print(np.dot(np.dot(x_subsampled[0,:],np.eye(13)),x_subsampled[0,:]))"
   ]
  },
  {
   "cell_type": "code",
   "execution_count": 38,
   "id": "5591e5b2-8b3a-4ba8-981e-ce1a7aa2a192",
   "metadata": {},
   "outputs": [
    {
     "name": "stdout",
     "output_type": "stream",
     "text": [
      "(13, 13)\n",
      "1.0\n"
     ]
    }
   ],
   "source": [
    "kernel = SquaredExponentialKernel(L=np.eye(x_subsampled.shape[1]))\n",
    "\n",
    "x_sample = np.ones((13,))\n",
    "sigma = calculate_covariance_matrix(x_subsampled, x_subsampled, kernel)\n",
    "sigma_k = calculate_covariance_matrix(x_subsampled, x_sample, kernel)\n",
    "\n",
    "print(np.dot(np.dot(sigma_k, np.linalg.inv(sigma)), x_subsampled).shape)\n",
    "output = kernel(x_subsampled[0,:], x_subsampled[0,:])\n",
    "print(output)\n",
    "\n",
    "#model = GPR(x_subsampled, y_subsampled, noise=0.1, covariance_function=kernel)\n",
    "#model.predict(x_subsampled[0,:])\n"
   ]
  },
  {
   "cell_type": "code",
   "execution_count": null,
   "id": "e2e321f0-b016-4c01-abc7-ef9c103b28aa",
   "metadata": {},
   "outputs": [],
   "source": []
  },
  {
   "cell_type": "code",
   "execution_count": null,
   "id": "fd53827e-6697-4d5a-b59a-2319d13aa9cb",
   "metadata": {},
   "outputs": [],
   "source": []
  }
 ],
 "metadata": {
  "kernelspec": {
   "display_name": "Python 3 (ipykernel)",
   "language": "python",
   "name": "python3"
  },
  "language_info": {
   "codemirror_mode": {
    "name": "ipython",
    "version": 3
   },
   "file_extension": ".py",
   "mimetype": "text/x-python",
   "name": "python",
   "nbconvert_exporter": "python",
   "pygments_lexer": "ipython3",
   "version": "3.8.10"
  }
 },
 "nbformat": 4,
 "nbformat_minor": 5
}
