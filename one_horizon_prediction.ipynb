{
 "cells": [
  {
   "cell_type": "code",
   "execution_count": 1,
   "id": "4e80865d-fe43-4eb3-b28c-f48f391fdba2",
   "metadata": {},
   "outputs": [],
   "source": [
    "import numpy as np\n",
    "import casadi as cs\n",
    "import os\n",
    "from acados_template import AcadosOcp, AcadosOcpSolver, AcadosModel\n",
    "import matplotlib.pyplot as plt\n",
    "import mpl_toolkits.mplot3d.axes3d as p3\n",
    "from matplotlib import animation\n",
    "\n",
    "from quad import Quadrotor3D\n",
    "from utils import skew_symmetric, quaternion_to_euler, unit_quat, v_dot_q\n",
    "from quad_opt import quad_optimizer"
   ]
  },
  {
   "cell_type": "code",
   "execution_count": 2,
   "id": "65ea27fb-41fc-4462-bf4f-dfe0ae7868a5",
   "metadata": {},
   "outputs": [
    {
     "ename": "TypeError",
     "evalue": "__init__() got an unexpected keyword argument 'optimization_dt'",
     "output_type": "error",
     "traceback": [
      "\u001b[0;31m---------------------------------------------------------------------------\u001b[0m",
      "\u001b[0;31mTypeError\u001b[0m                                 Traceback (most recent call last)",
      "Cell \u001b[0;32mIn [2], line 5\u001b[0m\n\u001b[1;32m      1\u001b[0m x0 \u001b[38;5;241m=\u001b[39m np\u001b[38;5;241m.\u001b[39marray([\u001b[38;5;241m-\u001b[39m\u001b[38;5;241m1\u001b[39m,\u001b[38;5;241m1\u001b[39m,\u001b[38;5;241m0\u001b[39m, \u001b[38;5;241m1\u001b[39m,\u001b[38;5;241m0\u001b[39m,\u001b[38;5;241m0\u001b[39m,\u001b[38;5;241m0\u001b[39m, \u001b[38;5;241m0\u001b[39m,\u001b[38;5;241m0\u001b[39m,\u001b[38;5;241m0\u001b[39m, \u001b[38;5;241m0\u001b[39m,\u001b[38;5;241m0\u001b[39m,\u001b[38;5;241m0\u001b[39m])\n\u001b[1;32m      3\u001b[0m \u001b[38;5;66;03m#x_target = np.array([3,2,2, 1,0,0,0, 0,0,0, 0,0,0])\u001b[39;00m\n\u001b[1;32m      4\u001b[0m \u001b[38;5;66;03m#u_target = np.array([0,0,0,0])\u001b[39;00m\n\u001b[0;32m----> 5\u001b[0m quad_opt \u001b[38;5;241m=\u001b[39m \u001b[43mquad_optimizer\u001b[49m\u001b[43m(\u001b[49m\u001b[43mQuadrotor3D\u001b[49m\u001b[43m(\u001b[49m\u001b[43m)\u001b[49m\u001b[43m,\u001b[49m\u001b[43m \u001b[49m\u001b[43moptimization_dt\u001b[49m\u001b[38;5;241;43m=\u001b[39;49m\u001b[38;5;241;43m0.1\u001b[39;49m\u001b[43m,\u001b[49m\u001b[43m \u001b[49m\u001b[43mn_nodes\u001b[49m\u001b[38;5;241;43m=\u001b[39;49m\u001b[38;5;241;43m100\u001b[39;49m\u001b[43m)\u001b[49m\n\u001b[1;32m      6\u001b[0m x_trajectory \u001b[38;5;241m=\u001b[39m quad_opt\u001b[38;5;241m.\u001b[39msquare_trajectory(quad_opt\u001b[38;5;241m.\u001b[39mn_nodes, quad_opt\u001b[38;5;241m.\u001b[39moptimization_dt)\n\u001b[1;32m      7\u001b[0m \u001b[38;5;28mprint\u001b[39m(x_trajectory\u001b[38;5;241m.\u001b[39mshape)\n",
      "\u001b[0;31mTypeError\u001b[0m: __init__() got an unexpected keyword argument 'optimization_dt'"
     ]
    }
   ],
   "source": [
    "x0 = np.array([-1,1,0, 1,0,0,0, 0,0,0, 0,0,0])\n",
    "\n",
    "#x_target = np.array([3,2,2, 1,0,0,0, 0,0,0, 0,0,0])\n",
    "#u_target = np.array([0,0,0,0])\n",
    "quad_opt = quad_optimizer(Quadrotor3D(), optimization_dt=0.1, n_nodes=100)\n",
    "x_trajectory = quad_opt.square_trajectory(quad_opt.n_nodes, quad_opt.optimization_dt)\n",
    "print(x_trajectory.shape)\n",
    "u_trajectory = np.ones((x_trajectory.shape[0], 4))*0.16 # 0.16 is hover thrust \n",
    "\n",
    "\n",
    "#yref, yref_N = set_reference_trajectory(x_trajectory, u_trajectory)\n",
    "\n",
    "#quad_opt.set_quad_state(x0)\n",
    "#yref, yref_N = quad_opt.set_reference_state(np.array([-2,0.5,1, 1,0,0,0, 0,0,0, 0,0,0]))\n",
    "\n",
    "yref, yref_N = quad_opt.set_reference_trajectory(x_trajectory, u_trajectory)\n",
    "\n",
    "# first run of quad_opt gives subpar results, need to warm start it?\n",
    "x_opt_acados, w_opt_acados = quad_opt.run_optimization(x0)\n",
    "x_opt_acados, w_opt_acados = quad_opt.run_optimization(x0)\n",
    "\n",
    "print(quad_opt.acados_ocp_solver.get_cost())\n",
    "\n",
    "\n",
    "fig = plt.figure()\n",
    "plt.plot(x_opt_acados[:,0],'r')\n",
    "plt.plot(x_opt_acados[:,1],'g')\n",
    "plt.plot(x_opt_acados[:,2],'b')\n",
    "\n",
    "\n",
    "plt.plot(np.concatenate((yref[:quad_opt.n_nodes,0], [yref_N[0]])),'r--')\n",
    "plt.plot(np.concatenate((yref[:quad_opt.n_nodes,1], [yref_N[1]])),'g--')\n",
    "plt.plot(np.concatenate((yref[:quad_opt.n_nodes,2], [yref_N[2]])), 'b--')\n",
    "\n",
    "fig = plt.figure()\n",
    "plt.plot(w_opt_acados[:,0],'r')\n",
    "plt.plot(w_opt_acados[:,1],'g')\n",
    "plt.plot(w_opt_acados[:,2],'b')\n",
    "plt.plot(w_opt_acados[:,3],'c')"
   ]
  }
 ],
 "metadata": {
  "kernelspec": {
   "display_name": "Python 3 (ipykernel)",
   "language": "python",
   "name": "python3"
  },
  "language_info": {
   "codemirror_mode": {
    "name": "ipython",
    "version": 3
   },
   "file_extension": ".py",
   "mimetype": "text/x-python",
   "name": "python",
   "nbconvert_exporter": "python",
   "pygments_lexer": "ipython3",
   "version": "3.8.10"
  }
 },
 "nbformat": 4,
 "nbformat_minor": 5
}
