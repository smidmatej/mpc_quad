{
 "cells": [
  {
   "cell_type": "code",
   "execution_count": 1,
   "id": "eb5d0fae-b5e8-418e-ace2-673d25e08271",
   "metadata": {},
   "outputs": [],
   "source": [
    "import numpy as np\n",
    "import matplotlib.pyplot as plt\n",
    "from gp import *\n",
    "from gp_ensemble import GPEnsemble\n",
    "from data_loader import data_loader\n",
    "import time"
   ]
  },
  {
   "cell_type": "code",
   "execution_count": 3,
   "id": "9ea87163-aa95-4a93-afe4-f8c059879d1a",
   "metadata": {},
   "outputs": [
    {
     "ename": "TypeError",
     "evalue": "__call__() got an unexpected keyword argument 'L'",
     "output_type": "error",
     "traceback": [
      "\u001b[0;31m---------------------------------------------------------------------------\u001b[0m",
      "\u001b[0;31mTypeError\u001b[0m                                 Traceback (most recent call last)",
      "Cell \u001b[0;32mIn [3], line 46\u001b[0m\n\u001b[1;32m     42\u001b[0m theta0 \u001b[38;5;241m=\u001b[39m [\u001b[38;5;241m1\u001b[39m,\u001b[38;5;241m1\u001b[39m,\u001b[38;5;241m1\u001b[39m] \u001b[38;5;66;03m# Kernel variables\u001b[39;00m\n\u001b[1;32m     44\u001b[0m RBF \u001b[38;5;241m=\u001b[39m KernelFunction(np\u001b[38;5;241m.\u001b[39meye(theta0[\u001b[38;5;241m0\u001b[39m]), theta0[\u001b[38;5;241m1\u001b[39m])\n\u001b[0;32m---> 46\u001b[0m gpr \u001b[38;5;241m=\u001b[39m \u001b[43mGPR\u001b[49m\u001b[43m(\u001b[49m\u001b[43mz_train_x\u001b[49m\u001b[43m,\u001b[49m\u001b[43m \u001b[49m\u001b[43my_train_x\u001b[49m\u001b[43m,\u001b[49m\u001b[43m \u001b[49m\u001b[43mcovariance_function\u001b[49m\u001b[38;5;241;43m=\u001b[39;49m\u001b[43mRBF\u001b[49m\u001b[43m,\u001b[49m\u001b[43m \u001b[49m\u001b[43mtheta\u001b[49m\u001b[38;5;241;43m=\u001b[39;49m\u001b[43mtheta0\u001b[49m\u001b[43m)\u001b[49m\n\u001b[1;32m     47\u001b[0m gpe\u001b[38;5;241m.\u001b[39madd_gp(gpr, \u001b[38;5;241m0\u001b[39m)\n\u001b[1;32m     49\u001b[0m gpr \u001b[38;5;241m=\u001b[39m GPR(z_train_y, y_train_y, covariance_function\u001b[38;5;241m=\u001b[39mRBF, theta\u001b[38;5;241m=\u001b[39mtheta0)\n",
      "File \u001b[0;32m~/Projects/MPC_drone/mpc_quad/gp/gp.py:61\u001b[0m, in \u001b[0;36mGPR.__init__\u001b[0;34m(self, z_train, y_train, covariance_function, theta)\u001b[0m\n\u001b[1;32m     51\u001b[0m \u001b[38;5;28;01mdef\u001b[39;00m \u001b[38;5;21m__init__\u001b[39m(\u001b[38;5;28mself\u001b[39m, z_train, y_train, covariance_function, theta):\n\u001b[1;32m     52\u001b[0m     \u001b[38;5;124;03m\"\"\"\u001b[39;00m\n\u001b[1;32m     53\u001b[0m \u001b[38;5;124;03m    The whole contructor is in this method. This method is called when contructing this class and after self.fit()\u001b[39;00m\n\u001b[1;32m     54\u001b[0m \u001b[38;5;124;03m    \u001b[39;00m\n\u001b[0;32m   (...)\u001b[0m\n\u001b[1;32m     58\u001b[0m \u001b[38;5;124;03m    :param: theta: np.array of hyperparameters\u001b[39;00m\n\u001b[1;32m     59\u001b[0m \u001b[38;5;124;03m    \"\"\"\u001b[39;00m\n\u001b[0;32m---> 61\u001b[0m     \u001b[38;5;28;43mself\u001b[39;49m\u001b[38;5;241;43m.\u001b[39;49m\u001b[43minitialize\u001b[49m\u001b[43m(\u001b[49m\u001b[43mz_train\u001b[49m\u001b[43m,\u001b[49m\u001b[43m \u001b[49m\u001b[43my_train\u001b[49m\u001b[43m,\u001b[49m\u001b[43m \u001b[49m\u001b[43mcovariance_function\u001b[49m\u001b[43m,\u001b[49m\u001b[43m \u001b[49m\u001b[43mtheta\u001b[49m\u001b[43m)\u001b[49m\n",
      "File \u001b[0;32m~/Projects/MPC_drone/mpc_quad/gp/gp.py:91\u001b[0m, in \u001b[0;36mGPR.initialize\u001b[0;34m(self, z_train, y_train, covariance_function, theta)\u001b[0m\n\u001b[1;32m     87\u001b[0m \u001b[38;5;28mself\u001b[39m\u001b[38;5;241m.\u001b[39mcovariance_function \u001b[38;5;241m=\u001b[39m covariance_function\n\u001b[1;32m     89\u001b[0m \u001b[38;5;28mself\u001b[39m\u001b[38;5;241m.\u001b[39mtheta\u001b[38;5;241m=\u001b[39mtheta\n\u001b[0;32m---> 91\u001b[0m \u001b[38;5;28mself\u001b[39m\u001b[38;5;241m.\u001b[39mkernel \u001b[38;5;241m=\u001b[39m \u001b[43mcovariance_function\u001b[49m\u001b[43m(\u001b[49m\u001b[43mL\u001b[49m\u001b[38;5;241;43m=\u001b[39;49m\u001b[43mnp\u001b[49m\u001b[38;5;241;43m.\u001b[39;49m\u001b[43meye\u001b[49m\u001b[43m(\u001b[49m\u001b[38;5;28;43mself\u001b[39;49m\u001b[38;5;241;43m.\u001b[39;49m\u001b[43mz_dim\u001b[49m\u001b[43m)\u001b[49m\u001b[38;5;241;43m*\u001b[39;49m\u001b[43mtheta\u001b[49m\u001b[43m[\u001b[49m\u001b[38;5;241;43m0\u001b[39;49m\u001b[43m]\u001b[49m\u001b[43m,\u001b[49m\u001b[43m \u001b[49m\u001b[43msigma_f\u001b[49m\u001b[38;5;241;43m=\u001b[39;49m\u001b[43mtheta\u001b[49m\u001b[43m[\u001b[49m\u001b[38;5;241;43m-\u001b[39;49m\u001b[38;5;241;43m2\u001b[39;49m\u001b[43m]\u001b[49m\u001b[43m)\u001b[49m\n\u001b[1;32m     93\u001b[0m \u001b[38;5;28mself\u001b[39m\u001b[38;5;241m.\u001b[39mnoise \u001b[38;5;241m=\u001b[39m theta[\u001b[38;5;241m-\u001b[39m\u001b[38;5;241m1\u001b[39m]\n\u001b[1;32m     95\u001b[0m \u001b[38;5;28;01mif\u001b[39;00m \u001b[38;5;28misinstance\u001b[39m(z_train, cs\u001b[38;5;241m.\u001b[39mSX):\n",
      "\u001b[0;31mTypeError\u001b[0m: __call__() got an unexpected keyword argument 'L'"
     ]
    }
   ],
   "source": [
    "filename = 'trajectory.pkl'\n",
    "compute_reduction = 100\n",
    "n_training_samples = 10\n",
    "\n",
    "d_loader = data_loader(filename, compute_reduction, n_training_samples)               \n",
    "\n",
    "\n",
    "\n",
    "z = d_loader.get_z(training=False)\n",
    "y = d_loader.get_y(training=False)\n",
    "\n",
    "\n",
    "z_train = d_loader.get_z(training=True)\n",
    "y_train = d_loader.get_y(training=True)\n",
    "\n",
    "# x velocity\n",
    "z_train_x = z_train[:,7].reshape(-1,1)\n",
    "z_x = z[:,7].reshape(-1,1)\n",
    "\n",
    "y_train_x = y_train[:,0].reshape(-1,1)\n",
    "y_x = y[:,0].reshape(-1,1)\n",
    "\n",
    "# y velocity\n",
    "z_train_y = z_train[:,8].reshape(-1,1)\n",
    "z_y = z[:,8].reshape(-1,1)\n",
    "\n",
    "y_train_y = y_train[:,1].reshape(-1,1)\n",
    "y_y = y[:,1].reshape(-1,1)\n",
    "\n",
    "# z velocity\n",
    "z_train_z = z_train[:,9].reshape(-1,1)\n",
    "z_z = z[:,9].reshape(-1,1)\n",
    "\n",
    "y_train_z = y_train[:,2].reshape(-1,1)\n",
    "y_z = y[:,2].reshape(-1,1)\n",
    "\n",
    "\n",
    "\n",
    "gpe = GPEnsemble(3)\n",
    "\n",
    "\n",
    "theta0 = [1,1,1] # Kernel variables\n",
    "\n",
    "#RBF = KernelFunction(np.eye(theta0[0]), theta0[1])\n",
    "\n",
    "gpr = GPR(z_train_x, y_train_x, covariance_function=KernelFunction, theta=theta0)\n",
    "gpe.add_gp(gpr, 0)\n",
    "\n",
    "gpr = GPR(z_train_y, y_train_y, covariance_function=KernelFunction, theta=theta0)\n",
    "gpe.add_gp(gpr, 1)\n",
    "\n",
    "gpr = GPR(z_train_z, y_train_z, covariance_function=KernelFunction, theta=theta0)\n",
    "gpe.add_gp(gpr, 2)\n",
    "\n",
    "gpe.fit()\n",
    "y_pred = gpe.predict(z[:,7:10])"
   ]
  },
  {
   "cell_type": "code",
   "execution_count": null,
   "id": "1d66bc6d-1c27-4b94-b901-75ef824752a7",
   "metadata": {},
   "outputs": [],
   "source": [
    "\n",
    "\n",
    "\n",
    "\n",
    "plt.figure(figsize=(10, 6), dpi=100)\n",
    "plt.subplot(131)\n",
    "plt.scatter(z[:,7], y_pred[:,0])\n",
    "plt.xlabel('Velocity x')\n",
    "plt.ylabel('Drag acceleration x')\n",
    "plt.legend(('Oracle drag', 'Estimated drag'))\n",
    "\n",
    "plt.subplot(132)\n",
    "plt.scatter(z[:,8], y_pred[:,1])\n",
    "plt.xlabel('Velocity y')\n",
    "plt.ylabel('Drag acceleration y')\n",
    "plt.legend(('Oracle drag', 'Estimated drag'))\n",
    "\n",
    "plt.subplot(133)\n",
    "plt.scatter(z[:,9], y_pred[:,2])\n",
    "plt.xlabel('Velocity z')\n",
    "plt.ylabel('Drag acceleration z')\n",
    "plt.legend(('Oracle drag', 'Estimated drag'))"
   ]
  },
  {
   "cell_type": "code",
   "execution_count": null,
   "id": "e6aed27d-1680-4acc-94ae-90cd75885c02",
   "metadata": {},
   "outputs": [],
   "source": []
  }
 ],
 "metadata": {
  "kernelspec": {
   "display_name": "Python 3 (ipykernel)",
   "language": "python",
   "name": "python3"
  },
  "language_info": {
   "codemirror_mode": {
    "name": "ipython",
    "version": 3
   },
   "file_extension": ".py",
   "mimetype": "text/x-python",
   "name": "python",
   "nbconvert_exporter": "python",
   "pygments_lexer": "ipython3",
   "version": "3.8.10"
  },
  "vscode": {
   "interpreter": {
    "hash": "916dbcbb3f70747c44a77c7bcd40155683ae19c65e1c03b4aa3499c5328201f1"
   }
  }
 },
 "nbformat": 4,
 "nbformat_minor": 5
}
