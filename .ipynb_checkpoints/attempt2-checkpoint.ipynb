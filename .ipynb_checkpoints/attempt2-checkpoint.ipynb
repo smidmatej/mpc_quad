{
 "cells": [
  {
   "cell_type": "code",
   "execution_count": 29,
   "id": "94505982-8ca5-4e61-b9e5-8c32ce821f80",
   "metadata": {},
   "outputs": [],
   "source": [
    "import numpy as np\n",
    "import casadi as cs\n",
    "import os\n",
    "from acados_template import AcadosOcp, AcadosOcpSolver, AcadosModel\n",
    "import matplotlib.pyplot as plt\n",
    "\n",
    "from quad import Quadrotor3D\n",
    "from utils import skew_symmetric, quaternion_to_euler, unit_quat, v_dot_q\n"
   ]
  },
  {
   "cell_type": "markdown",
   "id": "077b9d74-6142-4f06-bfc0-285e0f89afeb",
   "metadata": {
    "tags": []
   },
   "source": [
    "Define the quadrotor dynamics in Casadi"
   ]
  },
  {
   "cell_type": "code",
   "execution_count": 2,
   "id": "660ed6ef-3eba-4884-81ae-4da6e83f642b",
   "metadata": {},
   "outputs": [
    {
     "data": {
      "text/plain": [
       "DM([0, 0, 0, 0, 0, 0, 0, 0, 0, 70.19, 0, 0, 0])"
      ]
     },
     "execution_count": 2,
     "metadata": {},
     "output_type": "execute_result"
    }
   ],
   "source": [
    "quad = Quadrotor3D()\n",
    "\n",
    "p = cs.MX.sym('p',3) # Position\n",
    "q = cs.MX.sym('q',4) # Quaternion\n",
    "\n",
    "v = cs.MX.sym('v',3) # Velocity\n",
    "r = cs.MX.sym('w',3) # Angle rate\n",
    "\n",
    "x = cs.vertcat(p,q,v,r) # the complete state\n",
    "\n",
    "# Control variables\n",
    "u1 = cs.MX.sym('u1')\n",
    "u2 = cs.MX.sym('u2')\n",
    "u3 = cs.MX.sym('u3')\n",
    "u4 = cs.MX.sym('u4')\n",
    "\n",
    "u = cs.vertcat(u1,u2,u3,u4) # complete control\n",
    "\n",
    "# d position \n",
    "f_p = v # position dynamics\n",
    "\n",
    "# d quaternion\n",
    "f_q = 1 / 2 * cs.mtimes(skew_symmetric(r),q) # quaternion dynamics\n",
    "\n",
    "# d velocity\n",
    "f_thrust = u*quad.max_thrust\n",
    "a_thrust = cs.vertcat(0, 0, f_thrust[0] + f_thrust[1] + f_thrust[2] + f_thrust[3]) / quad.mass\n",
    "g = cs.vertcat(0,0,9.81)\n",
    "\n",
    "f_v = v_dot_q(a_thrust, q) - g # velocity dynamics\n",
    "\n",
    "# d rate\n",
    "y_f = cs.MX(quad.y_f)\n",
    "x_f = cs.MX(quad.x_f)\n",
    "c_f = cs.MX(quad.z_l_tau)\n",
    "# rate dynamics\n",
    "f_r =  cs.vertcat(\n",
    "    (cs.mtimes(f_thrust.T, y_f) + (quad.J[1] - quad.J[2]) * r[1] * r[2]) / quad.J[0],\n",
    "    (-cs.mtimes(f_thrust.T, x_f) + (quad.J[2] - quad.J[0]) * r[2] * r[0]) / quad.J[1],\n",
    "    (cs.mtimes(f_thrust.T, c_f) + (quad.J[0] - quad.J[1]) * r[0] * r[1]) / quad.J[2])\n",
    "\n",
    "\n",
    "# concatenated dynamics\n",
    "x_dot = cs.vertcat(f_p, f_q, f_v, f_r)\n",
    "# Casadi function for dynamics \n",
    "dynamics = cs.Function('x_dot', [x,u], [x_dot], ['x','u'], ['x_dot'])\n",
    "\n",
    "\n",
    "dynamics(np.zeros((13,)), np.ones((4,)))\n",
    "\n"
   ]
  },
  {
   "cell_type": "markdown",
   "id": "b0512abc-cc25-4eb0-b2d2-73c2b5a8c55d",
   "metadata": {},
   "source": [
    "Test integrating the dynamics by FE"
   ]
  },
  {
   "cell_type": "code",
   "execution_count": 3,
   "id": "58793b69-722a-4083-a421-6b33e7d2b854",
   "metadata": {},
   "outputs": [
    {
     "name": "stdout",
     "output_type": "stream",
     "text": [
      "[0, 0, -0.03, 1, 0, 0, 0, 0, 0, -2.2981, 0, 0, 0]\n",
      "[0, 0, -0.052981, 1, 0, 0, 0, 0, 0, -1.5962, 0, 0, 0]\n",
      "[0, 0, -0.068943, 1, 0, 0, 0, 0, 0, -0.8943, 0, 0, 0]\n",
      "[0, 0, -0.077886, 1, 0, 0, 0, 0, 0, -0.1924, 0, 0, 0]\n",
      "[0, 0, -0.07981, 1, 0, 0, 0, 0, 0, 0.5095, 0, 0, 0]\n",
      "[0, 0, -0.074715, 1, 0, 0, 0, 0, 0, 1.2114, 0, 0, 0]\n",
      "[0, 0, -0.062601, 1, 0, 0, 0, 0, 0, 1.9133, 0, 0, 0]\n",
      "[0, 0, -0.043468, 1, 0, 0, 0, 0, 0, 2.6152, 0, 0, 0]\n",
      "[0, 0, -0.017316, 1, 0, 0, 0, 0, 0, 3.3171, 0, 0, 0]\n",
      "[0, 0, 0.015855, 1, 0, 0, 0, 0, 0, 4.019, 0, 0, 0]\n"
     ]
    }
   ],
   "source": [
    "x_new = np.array([0,0,0, 1,0,0,0, 0,0,-3, 0,0,0])\n",
    "u_new = np.array([1,1,1,1])\n",
    "\n",
    "N = 10\n",
    "dt = 0.01\n",
    "for i in range(N):\n",
    "    x_new = x_new + dt*dynamics(x_new, u_new)\n",
    "    print(x_new)"
   ]
  },
  {
   "cell_type": "markdown",
   "id": "57454d30-7cd4-4680-b5e0-53efe8bc4b48",
   "metadata": {},
   "source": [
    "Now to define the Optimal Control Problem\n",
    "\n",
    "Cost function:\n",
    "$l(x,u) = \\vert \\vert V_x x + V_u u - y_{ref} \\vert \\vert^2_W$"
   ]
  },
  {
   "cell_type": "code",
   "execution_count": 4,
   "id": "eb4089f9-8123-4282-be83-271e6905eb36",
   "metadata": {},
   "outputs": [
    {
     "name": "stdout",
     "output_type": "stream",
     "text": [
      "rm -f libacados_ocp_solver_quad_OCP.so\n",
      "rm -f acados_solver_quad_OCP.o\n",
      "cc -fPIC -std=c99   -O2 -I/home/ja/Projects/MPC_drone/acados/include -I/home/ja/Projects/MPC_drone/acados/include/acados -I/home/ja/Projects/MPC_drone/acados/include/blasfeo/include -I/home/ja/Projects/MPC_drone/acados/include/hpipm/include  -c -o acados_solver_quad_OCP.o acados_solver_quad_OCP.c\n",
      "cc -fPIC -std=c99   -O2 -I/home/ja/Projects/MPC_drone/acados/include -I/home/ja/Projects/MPC_drone/acados/include/acados -I/home/ja/Projects/MPC_drone/acados/include/blasfeo/include -I/home/ja/Projects/MPC_drone/acados/include/hpipm/include  -c -o quad_OCP_model/quad_OCP_expl_ode_fun.o quad_OCP_model/quad_OCP_expl_ode_fun.c\n",
      "cc -fPIC -std=c99   -O2 -I/home/ja/Projects/MPC_drone/acados/include -I/home/ja/Projects/MPC_drone/acados/include/acados -I/home/ja/Projects/MPC_drone/acados/include/blasfeo/include -I/home/ja/Projects/MPC_drone/acados/include/hpipm/include  -c -o quad_OCP_model/quad_OCP_expl_vde_forw.o quad_OCP_model/quad_OCP_expl_vde_forw.c\n",
      "cc -shared acados_solver_quad_OCP.o quad_OCP_model/quad_OCP_expl_ode_fun.o quad_OCP_model/quad_OCP_expl_vde_forw.o -o libacados_ocp_solver_quad_OCP.so -L/home/ja/Projects/MPC_drone/acados/lib -lacados -lhpipm -lblasfeo -lm  \\\n",
      "-L -l\n",
      "acados was compiled without OpenMP.\n"
     ]
    }
   ],
   "source": [
    "x_dot = cs.MX.sym('x_dot', dynamics(x=x, u=u)['x_dot'].shape) # x_dot has the same dimensions as the dynamics function output\n",
    "#print(dynamics(x=x, u=u)['x_dot'])\n",
    "\n",
    "t_horizon = 1\n",
    "terminal_cost = 1\n",
    "\n",
    "acados_model = AcadosModel()\n",
    "\n",
    "\n",
    "acados_model.name = 'quad_OCP'\n",
    "acados_model.x = x\n",
    "acados_model.u = u\n",
    "#acados_model.x_dot = x_dot\n",
    "\n",
    "\n",
    "acados_model.f_expl_expr = dynamics(x=x, u=u)['x_dot'] # x_dot = f\n",
    "acados_model.f_impl_expr = x_dot - dynamics(x=x, u=u)['x_dot'] # 0 = f - x_dot\n",
    "\n",
    "#print(acados_model)\n",
    "\n",
    "acados_source_path = os.environ['ACADOS_SOURCE_DIR']\n",
    "\n",
    "acados_ocp = AcadosOcp()\n",
    "\n",
    "acados_ocp.acados_include_path = acados_source_path + '/include'\n",
    "acados_ocp.acados_lib_path = acados_source_path + '/lib'\n",
    "\n",
    "acados_ocp.model = acados_model\n",
    "acados_ocp.dims.N = N # prediction horizon\n",
    "acados_ocp.solver_options.tf = t_horizon # look ahead time\n",
    "\n",
    "acados_ocp.cost.cost_type = 'LINEAR_LS' # weigths times states (as opposed to a nonlinear relationship)\n",
    "acados_ocp.cost.cost_type_e = 'LINEAR_LS' # end state cost\n",
    "\n",
    "\n",
    "nx = acados_model.x.size()[0]\n",
    "nu = acados_model.u.size()[0]\n",
    "ny = nx + nu # y is x and u concatenated for compactness of the loss function\n",
    "\n",
    "## Optimization costs\n",
    "acados_ocp.cost.Vx = np.zeros((ny,nx)) # raise the dim of x to the dim of y\n",
    "acados_ocp.cost.Vx[:nx, :nx] = np.eye(nx) # weight only x\n",
    "acados_ocp.cost.Vx_e = np.eye(nx) # end x cost\n",
    "\n",
    "acados_ocp.cost.Vu = np.zeros((ny,nu)) # raise the dim of u to the dim of y\n",
    "acados_ocp.cost.Vu[-nu:, -nu:] = np.eye(nu) # weight only u\n",
    "\n",
    "# x cost (dim 12)\n",
    "q_cost = np.array([10, 10, 10, 0.1, 0.1, 0.1, 0.05, 0.05, 0.05, 0.05, 0.05, 0.05]) # euler angles\n",
    "# add one more weigth to account for the 4 quaternions instead of 3 EA\n",
    "q_diagonal = np.concatenate((q_cost[:3], np.mean(q_cost[3:6])[np.newaxis], q_cost[3:]))\n",
    "r_cost = np.array([0.1, 0.1, 0.1, 0.1]) # u cost (dim 4)\n",
    "acados_ocp.cost.W = np.diag(np.concatenate((q_diagonal, r_cost))) # error costs\n",
    "acados_ocp.cost.W_e = np.diag(q_diagonal) * terminal_cost # end error cost\n",
    "\n",
    "\n",
    "# reference trajectory (will be overwritten later, this is just for dimensions)\n",
    "x_ref = np.zeros(nx)\n",
    "acados_ocp.cost.yref = np.concatenate((x_ref, np.array([0.0, 0.0, 0.0, 0.0])))\n",
    "#print(acados_ocp.cost.yref.shape)\n",
    "acados_ocp.cost.yref_e = x_ref\n",
    "\n",
    "acados_ocp.constraints.x0 = x_ref\n",
    "\n",
    "acados_ocp.constraints.lbu = np.array([0] * 4)\n",
    "acados_ocp.constraints.ubu = np.array([1] * 4)\n",
    "acados_ocp.constraints.idxbu = np.array([0,1,2,3]) # Indices of bounds on u \n",
    "\n",
    "## Solver options\n",
    "acados_ocp.solver_options.qp_solver = 'FULL_CONDENSING_HPIPM'\n",
    "acados_ocp.solver_options.hessian_approx = 'GAUSS_NEWTON'\n",
    "acados_ocp.solver_options.integrator_type = 'ERK'\n",
    "acados_ocp.solver_options.print_level = 0\n",
    "acados_ocp.solver_options.nlp_solver_type = 'SQP_RTI'\n",
    "\n",
    "# Compile acados OCP solver if necessary\n",
    "json_file = '_acados_ocp.json'\n",
    "\n",
    "#print(acados_ocp.items())\n",
    "\n",
    "#print(acados_model['x_dot'])\n",
    "acados_ocp_solver = AcadosOcpSolver(acados_ocp)#, json_file=json_file)\n",
    "\n",
    "\n",
    "\n",
    "\n",
    "\n"
   ]
  },
  {
   "cell_type": "markdown",
   "id": "615e4201-0cc3-4cad-9afa-6143d24e6fb1",
   "metadata": {},
   "source": [
    "Add a reference trajectory"
   ]
  },
  {
   "cell_type": "code",
   "execution_count": 93,
   "id": "eecb48a4-fabd-4128-b6d2-3068a3cdd7f2",
   "metadata": {},
   "outputs": [],
   "source": [
    "u_target = np.array([0,0,0,0])\n",
    "x_target = np.array([0,0,1, 1,0,0,0, 0,0,0, 0,0,0], dtype=float)\n",
    "yref = np.empty((N,ny))\n",
    "for j in range(0,N):\n",
    "    yref[j,:] = np.concatenate(( x_target*j/2, u_target))\n",
    "    #print(ref)\n",
    "    acados_ocp_solver.set(j, \"yref\", yref[j,:])\n",
    "    \n",
    "yref_N = x_target*N/2\n",
    "acados_ocp_solver.set(N, \"yref\", yref_N)\n",
    "\n",
    "#acados_ocp_solver.get(1,'yref')\n",
    "    #yref[j,:] = ref\n",
    "#print(yref)\n",
    "#acados_ocp.cost.yref = yref"
   ]
  },
  {
   "cell_type": "code",
   "execution_count": 91,
   "id": "2f0f116a-8781-4589-86f0-25a3dcbcfd49",
   "metadata": {},
   "outputs": [],
   "source": [
    "\n",
    "def run_optimization(x_init=None):\n",
    "    \n",
    "    \n",
    "    if x_init is None:\n",
    "        x_init = np.array([0,0,0, 1,0,0,0, 0,0,0, 0,0,0]) \n",
    "    # Get u\n",
    "    \n",
    "    \n",
    "    acados_ocp_solver.set(0, 'lbx', x_init)\n",
    "    acados_ocp_solver.set(0, 'ubx', x_init)\n",
    "    acados_ocp_solver.set(0, 'x', x_init)\n",
    "    \n",
    "    # Solve OCP\n",
    "    acados_ocp_solver.solve()\n",
    "    \n",
    "    # preallocate memory\n",
    "    w_opt_acados = np.ndarray((N, 4)) \n",
    "    x_opt_acados = np.ndarray((N + 1, len(x_init)))\n",
    "    x_opt_acados[0, :] = acados_ocp_solver.get(0, \"x\") # should be x_init?\n",
    "    for i in range(N):\n",
    "        w_opt_acados[i, :] = acados_ocp_solver.get(i, \"u\") # optimal control\n",
    "        x_opt_acados[i + 1, :] = acados_ocp_solver.get(i + 1, \"x\") # state under optimal control\n",
    "\n",
    "    #w_opt_acados = np.reshape(w_opt_acados, (-1))\n",
    "    return x_opt_acados, w_opt_acados\n",
    "#print(w_opt_acados)\n"
   ]
  },
  {
   "cell_type": "code",
   "execution_count": 99,
   "id": "aa98b497-ac8c-4964-a3a6-91db989b3edf",
   "metadata": {},
   "outputs": [
    {
     "name": "stdout",
     "output_type": "stream",
     "text": [
      "[0. 0. 0. 0. 0. 0. 0. 0. 0. 0.]\n",
      "0.0\n"
     ]
    },
    {
     "ename": "ValueError",
     "evalue": "all the input arrays must have same number of dimensions, but the array at index 0 has 1 dimension(s) and the array at index 1 has 0 dimension(s)",
     "output_type": "error",
     "traceback": [
      "\u001b[0;31m---------------------------------------------------------------------------\u001b[0m",
      "\u001b[0;31mValueError\u001b[0m                                Traceback (most recent call last)",
      "Cell \u001b[0;32mIn [99], line 11\u001b[0m\n\u001b[1;32m      8\u001b[0m plt\u001b[38;5;241m.\u001b[39mplot(x_opt_acados[:,\u001b[38;5;241m1\u001b[39m],\u001b[38;5;124m'\u001b[39m\u001b[38;5;124mg\u001b[39m\u001b[38;5;124m'\u001b[39m)\n\u001b[1;32m      9\u001b[0m plt\u001b[38;5;241m.\u001b[39mplot(x_opt_acados[:,\u001b[38;5;241m2\u001b[39m], \u001b[38;5;124m'\u001b[39m\u001b[38;5;124mb\u001b[39m\u001b[38;5;124m'\u001b[39m)\n\u001b[0;32m---> 11\u001b[0m plt\u001b[38;5;241m.\u001b[39mplot(\u001b[43mnp\u001b[49m\u001b[38;5;241;43m.\u001b[39;49m\u001b[43mconcatenate\u001b[49m\u001b[43m(\u001b[49m\u001b[43m(\u001b[49m\u001b[43myref\u001b[49m\u001b[43m[\u001b[49m\u001b[43m:\u001b[49m\u001b[43m,\u001b[49m\u001b[38;5;241;43m0\u001b[39;49m\u001b[43m]\u001b[49m\u001b[43m,\u001b[49m\u001b[43m \u001b[49m\u001b[43myref_N\u001b[49m\u001b[43m[\u001b[49m\u001b[38;5;241;43m0\u001b[39;49m\u001b[43m]\u001b[49m\u001b[43m)\u001b[49m\u001b[43m)\u001b[49m,\u001b[38;5;124m'\u001b[39m\u001b[38;5;124mr--\u001b[39m\u001b[38;5;124m'\u001b[39m)\n\u001b[1;32m     12\u001b[0m plt\u001b[38;5;241m.\u001b[39mplot(yref[:,\u001b[38;5;241m1\u001b[39m],\u001b[38;5;124m'\u001b[39m\u001b[38;5;124mg--\u001b[39m\u001b[38;5;124m'\u001b[39m)\n\u001b[1;32m     13\u001b[0m plt\u001b[38;5;241m.\u001b[39mplot(yref[:,\u001b[38;5;241m2\u001b[39m], \u001b[38;5;124m'\u001b[39m\u001b[38;5;124mb--\u001b[39m\u001b[38;5;124m'\u001b[39m)\n",
      "File \u001b[0;32m<__array_function__ internals>:180\u001b[0m, in \u001b[0;36mconcatenate\u001b[0;34m(*args, **kwargs)\u001b[0m\n",
      "\u001b[0;31mValueError\u001b[0m: all the input arrays must have same number of dimensions, but the array at index 0 has 1 dimension(s) and the array at index 1 has 0 dimension(s)"
     ]
    },
    {
     "data": {
      "image/png": "[encoded data removed]",
      "text/plain": [
       "<Figure size 640x480 with 1 Axes>"
      ]
     },
     "metadata": {},
     "output_type": "display_data"
    }
   ],
   "source": [
    "x0 = np.array([0,0,0, 1,0,0,0, 0,0,0, 0,0,0]) \n",
    "x_opt_acados, w_opt_acados = run_optimization(x0)\n",
    "\n",
    "print(yref[:,0])\n",
    "print(yref_N[0])\n",
    "fig = plt.figure()\n",
    "plt.plot(x_opt_acados[:,0],'r')\n",
    "plt.plot(x_opt_acados[:,1],'g')\n",
    "plt.plot(x_opt_acados[:,2], 'b')\n",
    "\n",
    "plt.plot(np.concatenate((yref[:,0], yref_N[0])),'r--')\n",
    "plt.plot(yref[:,1],'g--')\n",
    "plt.plot(yref[:,2], 'b--')\n",
    "\n",
    "#print(x_opt_acados)\n",
    "#print(w_opt_acados)\n",
    "#acados_ocp.cost.yref"
   ]
  },
  {
   "cell_type": "code",
   "execution_count": null,
   "id": "3abc9644-0584-46c0-9593-f44d09d5fca2",
   "metadata": {},
   "outputs": [],
   "source": []
  }
 ],
 "metadata": {
  "kernelspec": {
   "display_name": "Python 3 (ipykernel)",
   "language": "python",
   "name": "python3"
  },
  "language_info": {
   "codemirror_mode": {
    "name": "ipython",
    "version": 3
   },
   "file_extension": ".py",
   "mimetype": "text/x-python",
   "name": "python",
   "nbconvert_exporter": "python",
   "pygments_lexer": "ipython3",
   "version": "3.8.10"
  }
 },
 "nbformat": 4,
 "nbformat_minor": 5
}
