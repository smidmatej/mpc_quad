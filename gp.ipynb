{
 "cells": [
  {
   "cell_type": "code",
   "execution_count": 1,
   "id": "4372fe36-e95a-4007-8005-627169db408b",
   "metadata": {},
   "outputs": [],
   "source": [
    "import numpy as np\n",
    "import plotly.graph_objects as go\n",
    "from ipywidgets import interact, widgets"
   ]
  },
  {
   "cell_type": "code",
   "execution_count": 2,
   "id": "492e3359-8107-40db-915c-c7de416690b6",
   "metadata": {},
   "outputs": [],
   "source": [
    " def update_layout_of_graph(fig: go.Figure,title: str = 'Plot')->go.Figure:\n",
    "    fig.update_layout(\n",
    "        width=800,\n",
    "        height=600,\n",
    "        autosize=False,\n",
    "        plot_bgcolor='rgba(0,0,0,0)',\n",
    "        title=title,\n",
    "        \n",
    "    )\n",
    "    fig.update_layout(plot_bgcolor='rgba(0,0,0,0)',\n",
    "                      xaxis_title = 'input values',\n",
    "                      yaxis_title = 'output values',\n",
    "                      legend=dict(yanchor=\"top\",\n",
    "                                  y=0.9,\n",
    "                                  xanchor=\"right\",\n",
    "                                  x=0.95),\n",
    "                      title={\n",
    "                          'x': 0.5,\n",
    "                          'xanchor': 'center'\n",
    "                      })\n",
    "    fig.update_xaxes(showline=True, linewidth=1, linecolor='black')\n",
    "    fig.update_yaxes(showline=True, linewidth=1, linecolor='black')\n",
    "    return fig\n",
    "def line_scatter(\n",
    "    visible: bool = True,\n",
    "    x_lines: np.array = np.array([]),\n",
    "    y_lines: np.array = np.array([]),\n",
    "    name_line: str = 'Predicted function',\n",
    "    showlegend: bool = True,\n",
    ") -> go.Scatter:\n",
    "    # Adding the lines\n",
    "    return go.Scatter(\n",
    "        visible=visible,\n",
    "        line=dict(color=\"blue\", width=2),\n",
    "        x=x_lines,\n",
    "        y=y_lines,\n",
    "        name=name_line,\n",
    "        showlegend= showlegend\n",
    "    )\n",
    "def dot_scatter(\n",
    "    visible: bool = True,\n",
    "    x_dots: np.array = np.array([]),\n",
    "    y_dots: np.array = np.array([]),\n",
    "    name_dots: str = 'Observed points',\n",
    "    showlegend: bool = True\n",
    ") -> go.Scatter:\n",
    "    # Adding the dots\n",
    "    return go.Scatter(\n",
    "        x=x_dots,\n",
    "        visible=visible,\n",
    "        y=y_dots,\n",
    "        mode=\"markers\",\n",
    "        name=name_dots,\n",
    "        marker=dict(color='red', size=8),\n",
    "        showlegend=showlegend\n",
    "    )\n",
    "def uncertainty_area_scatter(\n",
    "        visible: bool = True,\n",
    "        x_lines: np.array = np.array([]),\n",
    "        y_upper: np.array = np.array([]),\n",
    "        y_lower: np.array = np.array([]),\n",
    "        name: str = \"mean plus/minus standard deviation\",\n",
    ") -> go.Scatter:\n",
    "\n",
    "    return go.Scatter(\n",
    "        visible=visible,\n",
    "        x=np.concatenate((x_lines, x_lines[::-1])),  # x, then x reversed\n",
    "        # upper, then lower reversed\n",
    "        y=np.concatenate((y_upper, y_lower[::-1])),\n",
    "        fill='toself',\n",
    "        fillcolor='rgba(189,195,199,0.5)',\n",
    "        line=dict(color='rgba(200,200,200,0)'),\n",
    "        hoverinfo=\"skip\",\n",
    "        showlegend=True,\n",
    "        name= name,\n",
    "    )"
   ]
  },
  {
   "cell_type": "code",
   "execution_count": 3,
   "id": "12202b20-5e59-485d-bc51-2be30f8c0e8a",
   "metadata": {},
   "outputs": [],
   "source": [
    "class SquaredExponentialKernel:\n",
    "    def __init__(self,length=1,sigma_f=1):\n",
    "        self.length = length\n",
    "        self.sigma_f = sigma_f\n",
    "        \n",
    "    def __call__(self, argument_1,argument_2):\n",
    "        return float(self.sigma_f*np.exp(-np.linalg.norm(argument_1-argument_2)**2/(2*self.length**2)))"
   ]
  },
  {
   "cell_type": "code",
   "execution_count": null,
   "id": "9667bf06-3950-4e50-b872-98baea8f91ec",
   "metadata": {},
   "outputs": [],
   "source": []
  },
  {
   "cell_type": "code",
   "execution_count": null,
   "id": "00cc43ef-7035-414e-bab0-751588a60bfe",
   "metadata": {},
   "outputs": [],
   "source": []
  },
  {
   "cell_type": "code",
   "execution_count": 4,
   "id": "9b7e14f0-2c61-4207-8fc6-d644c71df3f3",
   "metadata": {},
   "outputs": [
    {
     "data": {
      "application/vnd.jupyter.widget-view+json": {
       "model_id": "bc8f4adb39274feba72515e3f51f9565",
       "version_major": 2,
       "version_minor": 0
      },
      "text/plain": [
       "interactive(children=(FloatSlider(value=1.0, description='length', max=3.0, min=0.1), FloatSlider(value=0.0, d…"
      ]
     },
     "metadata": {},
     "output_type": "display_data"
    },
    {
     "data": {
      "application/vnd.jupyter.widget-view+json": {
       "model_id": "3d8689a4edb64c2a93011b72ac51cde6",
       "version_major": 2,
       "version_minor": 0
      },
      "text/plain": [
       "FigureWidget({\n",
       "    'data': [{'line': {'color': 'blue', 'width': 2},\n",
       "              'name': 'Predicted function'…"
      ]
     },
     "metadata": {},
     "output_type": "display_data"
    }
   ],
   "source": [
    "kernel = SquaredExponentialKernel(length=1)\n",
    "x_lines = np.arange(-10, 10, 0.1)\n",
    "fig0 = go.FigureWidget(data=[\n",
    "    line_scatter(\n",
    "        x_lines=x_lines,\n",
    "        y_lines=np.array([kernel(x,0) for x in x_lines]),\n",
    "    )\n",
    "])\n",
    "\n",
    "fig0 = update_layout_of_graph(fig0, title='Squared exponential kernel')\n",
    "\n",
    "\n",
    "@interact(length=(0.1, 3, 0.1), argument_2=(-10, 10, 0.1))\n",
    "def update(length=1, argument_2=0):\n",
    "    with fig0.batch_update():\n",
    "        kernel = SquaredExponentialKernel(length=length)\n",
    "        fig0.data[0].y = np.array([kernel(x, argument_2) for x in x_lines])\n",
    "        \n",
    "fig0"
   ]
  },
  {
   "cell_type": "code",
   "execution_count": 5,
   "id": "44a0cdb0-e262-47f5-be06-44994cdddbac",
   "metadata": {},
   "outputs": [],
   "source": [
    "def calculate_covariance_matrix(x1,x2,covariance_function):\n",
    "    return np.array([[covariance_function(a,b) for a in x1] for b in x2])"
   ]
  },
  {
   "cell_type": "code",
   "execution_count": 6,
   "id": "898f86b1-3a51-4b75-b589-a8a143c3ae37",
   "metadata": {},
   "outputs": [],
   "source": [
    "class GPR:\n",
    "    def __init__(self,\n",
    "                 data_x,\n",
    "                 data_y,\n",
    "                 covariance_function=SquaredExponentialKernel(),\n",
    "                 noise=0.0):\n",
    "        self.data_x = data_x\n",
    "        self.data_y = data_y\n",
    "        self.covariance_function = covariance_function\n",
    "        self.noise = noise\n",
    "        self._memory = None\n",
    "        \n",
    "        self.inv_cov_matrix_of_input_data = np.linalg.inv(\n",
    "            calculate_covariance_matrix(data_x, data_x, covariance_function) \\\n",
    "            + (noise+1e-7)*np.identity(len(data_x)))\n",
    "\n",
    "    def predict(self,at_values):\n",
    "        k_lower_star = calculate_covariance_matrix(self.data_x,at_values,self.covariance_function)\n",
    "        k_lower_star2 = calculate_covariance_matrix(at_values,at_values,self.covariance_function)\n",
    "        \n",
    "        mean_at_values = np.dot(\n",
    "            k_lower_star, \n",
    "            np.dot(self.data_y, \n",
    "                   self.inv_cov_matrix_of_input_data.T).T).flatten()\n",
    "        \n",
    "        covar_matrix = k_lower_star2 - \\\n",
    "            np.dot(k_lower_star, np.dot(\n",
    "                   self.inv_cov_matrix_of_input_data, k_lower_star.T))\n",
    "        \n",
    "        variance = np.diag(covar_matrix)\n",
    "        self._memory = {'mean': mean_at_values, 'covariance_matrix': covar_matrix, 'variance':variance}\n",
    "                        \n",
    "        return mean_at_values"
   ]
  },
  {
   "cell_type": "code",
   "execution_count": 7,
   "id": "25c247a1-ca1f-44d1-b5ae-32d808c9ae15",
   "metadata": {},
   "outputs": [],
   "source": [
    "# Function to show the summary of the fit\n",
    "def summary(gp):\n",
    "    optimized = gp.optimizer != None\n",
    "    if not optimized:\n",
    "        s1 = \"Fitted Kernel(not optimized)\\n\\n%s\" % gp.kernel_\n",
    "    else:\n",
    "        s1 = \"Fitted Kernel(Optimized)\\n\\n%s\" % gp.kernel_\n",
    "    s2 = \"\\n\\nlog marginal likelihood: %.5f\" % gp.log_marginal_likelihood(gp.kernel_.theta)\n",
    "    print(s1 + s2 + '\\n')"
   ]
  },
  {
   "cell_type": "code",
   "execution_count": 8,
   "id": "07d2d3ef-0a24-4327-8d29-096723941aaf",
   "metadata": {},
   "outputs": [
    {
     "name": "stdout",
     "output_type": "stream",
     "text": [
      "10\n",
      "(10, 13)\n",
      "(10,)\n",
      "[[1. 0. 0. 0. 0. 0. 0. 0. 0. 0.]\n",
      " [0. 1. 0. 0. 0. 0. 0. 0. 0. 0.]\n",
      " [0. 0. 1. 0. 0. 0. 0. 0. 0. 0.]\n",
      " [0. 0. 0. 1. 0. 0. 0. 0. 0. 0.]\n",
      " [0. 0. 0. 0. 1. 0. 0. 0. 0. 0.]\n",
      " [0. 0. 0. 0. 0. 1. 0. 0. 0. 0.]\n",
      " [0. 0. 0. 0. 0. 0. 1. 0. 0. 0.]\n",
      " [0. 0. 0. 0. 0. 0. 0. 1. 0. 0.]\n",
      " [0. 0. 0. 0. 0. 0. 0. 0. 1. 0.]\n",
      " [0. 0. 0. 0. 0. 0. 0. 0. 0. 1.]]\n"
     ]
    }
   ],
   "source": [
    "from save_dataset import load_dict\n",
    "from sklearn import gaussian_process\n",
    "from sklearn.gaussian_process.kernels import Matern, WhiteKernel, ConstantKernel, RBF\n",
    "\n",
    "data = load_dict('data/trajectory.pkl')\n",
    "\n",
    "#print(data)\n",
    "v = data['v'][1:]\n",
    "v_pred = data['v_pred'][1:]\n",
    "\n",
    "\n",
    "\n",
    "a_error = (v - v_pred)/data['dt']\n",
    "\n",
    "\n",
    "x_values = np.concatenate((data['p'][1:,:], data['q'][1:,:], data['v'][1:,:], data['w'][1:,:]),axis=1)\n",
    "y_values = a_error[:,0] # just x dimension\n",
    "\n",
    "n_sub = 1000\n",
    "x_subsampled = x_values[::n_sub]\n",
    "y_subsampled = y_values[::n_sub]\n",
    "n_sampled = x_subsampled.shape[0]\n",
    "\n",
    "print(n_sampled)\n",
    "print(x_subsampled.shape)\n",
    "\n",
    "print(y_subsampled.shape)\n",
    "print(np.eye(n_sampled))"
   ]
  },
  {
   "cell_type": "code",
   "execution_count": 9,
   "id": "35091619-3fe2-46b3-9bfd-2e53caefd79f",
   "metadata": {},
   "outputs": [
    {
     "name": "stdout",
     "output_type": "stream",
     "text": [
      "Fitted Kernel(Optimized)\n",
      "\n",
      "RBF(length_scale=12.9)\n",
      "\n",
      "log marginal likelihood: -4.88083\n",
      "\n",
      "1.8476016698696858\n",
      "1.0\n"
     ]
    }
   ],
   "source": [
    "\n",
    "\n",
    "kernel = ConstantKernel() + Matern(length_scale=2, nu=3/2) + WhiteKernel(noise_level=9)\n",
    "kernel = RBF(1)\n",
    "\n",
    "gp = gaussian_process.GaussianProcessRegressor(kernel=kernel, n_restarts_optimizer=0)\n",
    "gp.fit(x_subsampled, y_subsampled)\n",
    "\n",
    "summary(gp)\n",
    "\n",
    "x_pred = np.ones((13)).reshape(1,-1)\n",
    "  \n",
    "y_pred, sigma = gp.predict(x_values, return_std=True)\n",
    "#print(y_pred)\n",
    "#print(sigma)\n",
    "rms = np.sqrt(np.sum(np.square(y_values - y_pred))/y_values.shape[0])\n",
    "\n",
    "print(rms)\n",
    "\n",
    "params = gp.get_params(True)\n",
    "print(gp.score(x_subsampled, y_subsampled))\n",
    "#print(params)\n",
    "#print(params['copy_X_train'])\n",
    "#print(gp.kernel.hyperparameters)\n",
    "#print(gp.kernel_.get_params())"
   ]
  },
  {
   "cell_type": "code",
   "execution_count": 10,
   "id": "b7615d3a-89c0-42f9-bb28-0a6f4b487648",
   "metadata": {},
   "outputs": [
    {
     "ename": "AttributeError",
     "evalue": "'RBF' object has no attribute 'k1'",
     "output_type": "error",
     "traceback": [
      "\u001b[0;31m---------------------------------------------------------------------------\u001b[0m",
      "\u001b[0;31mAttributeError\u001b[0m                            Traceback (most recent call last)",
      "Cell \u001b[0;32mIn [10], line 1\u001b[0m\n\u001b[0;32m----> 1\u001b[0m \u001b[43mgp\u001b[49m\u001b[38;5;241;43m.\u001b[39;49m\u001b[43mkernel_\u001b[49m\u001b[38;5;241;43m.\u001b[39;49m\u001b[43mk1\u001b[49m\n",
      "\u001b[0;31mAttributeError\u001b[0m: 'RBF' object has no attribute 'k1'"
     ]
    }
   ],
   "source": [
    "gp.kernel_.k1"
   ]
  },
  {
   "cell_type": "code",
   "execution_count": null,
   "id": "92d33a73-40e5-401c-b2ed-60bd0be6329e",
   "metadata": {},
   "outputs": [],
   "source": [
    "\n",
    "print(kernel)"
   ]
  },
  {
   "cell_type": "code",
   "execution_count": null,
   "id": "7bb5fc9b-b335-4d05-9c48-7d5612737712",
   "metadata": {},
   "outputs": [],
   "source": []
  },
  {
   "cell_type": "code",
   "execution_count": null,
   "id": "6275ecb4-9d06-4811-90a4-4b6b00d497ec",
   "metadata": {},
   "outputs": [],
   "source": []
  },
  {
   "cell_type": "code",
   "execution_count": null,
   "id": "f9a85858-0675-4c67-bca5-a57d42ba11d2",
   "metadata": {},
   "outputs": [],
   "source": []
  },
  {
   "cell_type": "code",
   "execution_count": null,
   "id": "ca18185f-ab20-4dca-9744-e467b730d5fd",
   "metadata": {},
   "outputs": [],
   "source": [
    "y_pred, sigma = gp.predict(x_pred, return_std=True)"
   ]
  },
  {
   "cell_type": "code",
   "execution_count": null,
   "id": "c0ba916d-76c8-4644-9c98-f0aea623b26d",
   "metadata": {},
   "outputs": [],
   "source": [
    "x = np.arange(0,20,0.01)\n"
   ]
  },
  {
   "cell_type": "code",
   "execution_count": null,
   "id": "5591e5b2-8b3a-4ba8-981e-ce1a7aa2a192",
   "metadata": {},
   "outputs": [],
   "source": [
    "\n",
    "def plot_GPR(data_x, data_y, model, x, visible=True) -> list:\n",
    "    \n",
    "    mean = model.predict(x)\n",
    "    std = np.sqrt(model._memory['variance'])\n",
    "    data = []\n",
    "    print(std)\n",
    "    for i in range(1,4):\n",
    "        data.append(\n",
    "            uncertainty_area_scatter(\n",
    "                x_lines=x,\n",
    "                y_lower=mean-i*std,\n",
    "                y_upper=mean+i*std,\n",
    "                name=f\"mean +- {i}*std\",\n",
    "                visible=visible))\n",
    "    data.append(line_scatter(x_lines=x, y_lines=mean, visible=visible))\n",
    "    data.append(dot_scatter(x_dots=data_x, y_dots=data_y, visible=visible))\n",
    "    return data"
   ]
  },
  {
   "cell_type": "code",
   "execution_count": null,
   "id": "e2e321f0-b016-4c01-abc7-ef9c103b28aa",
   "metadata": {},
   "outputs": [],
   "source": [
    "model = GPR(x_subsampled, y_subsampled, noise=0.1)\n",
    "\n",
    "\n",
    "data = plot_GPR(data_x = x_subsampled, data_y=y_subsampled, x=x, model=model)\n",
    "fig = go.Figure(data=data)\n",
    "fig = update_layout_of_graph(fig=fig,\n",
    "                             title='GPR with length 1, sigma0 and noise 0')\n",
    "fig"
   ]
  },
  {
   "cell_type": "code",
   "execution_count": null,
   "id": "fd53827e-6697-4d5a-b59a-2319d13aa9cb",
   "metadata": {},
   "outputs": [],
   "source": []
  }
 ],
 "metadata": {
  "kernelspec": {
   "display_name": "Python 3 (ipykernel)",
   "language": "python",
   "name": "python3"
  },
  "language_info": {
   "codemirror_mode": {
    "name": "ipython",
    "version": 3
   },
   "file_extension": ".py",
   "mimetype": "text/x-python",
   "name": "python",
   "nbconvert_exporter": "python",
   "pygments_lexer": "ipython3",
   "version": "3.8.10"
  }
 },
 "nbformat": 4,
 "nbformat_minor": 5
}
